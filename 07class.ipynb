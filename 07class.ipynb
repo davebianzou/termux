{
 "cells": [
  {
   "cell_type": "code",
   "execution_count": 7,
   "metadata": {},
   "outputs": [
    {
     "name": "stdout",
     "output_type": "stream",
     "text": [
      "False\n",
      "first calculator 18 3\n"
     ]
    }
   ],
   "source": [
    "class Calculator:\n",
    "    name='first calculator'\n",
    "    price=18\n",
    "    isRelease=False\n",
    "    def add(self,x,y):\n",
    "        print(self.isRelease)\n",
    "        result=x+y\n",
    "        return result\n",
    "    def minus(self,x,y):\n",
    "        result=x-y\n",
    "        return result\n",
    "    def times(self,x,y):\n",
    "        result=x*y\n",
    "        return result\n",
    "    def divide(self,x,y):\n",
    "        result=x/y\n",
    "        return result\n",
    "\n",
    "calcul=Calculator()\n",
    "print(calcul.name,\n",
    "      calcul.price,\n",
    "      calcul.add(1,2))"
   ]
  },
  {
   "cell_type": "code",
   "execution_count": null,
   "metadata": {},
   "outputs": [],
   "source": []
  },
  {
   "cell_type": "code",
   "execution_count": 32,
   "metadata": {},
   "outputs": [
    {
     "data": {
      "text/plain": [
       "(17, 5.3125)"
      ]
     },
     "execution_count": 32,
     "metadata": {},
     "output_type": "execute_result"
    }
   ],
   "source": [
    "class Calculator:\n",
    "    name='first calculator'\n",
    "    price=18\n",
    "    isRelease=False\n",
    "    def __init__(self,price,width):\n",
    "        self.price=price\n",
    "        self.wi=width\n",
    "        self.rate=self.divide(self.price,self.wi)\n",
    "    def add(self,x,y):\n",
    "        print(self.isRelease)\n",
    "        result=x+y\n",
    "        return result\n",
    "    def minus(self,x,y):\n",
    "        result=x-y\n",
    "        return result\n",
    "    def times(self,x,y):\n",
    "        result=x*y\n",
    "        return result\n",
    "    def divide(self,x,y):\n",
    "        result=x/y\n",
    "        return result\n",
    "\n",
    "calcul=Calculator(17,3.2)\n",
    "calcul.price,calcul.rate"
   ]
  }
 ],
 "metadata": {
  "kernelspec": {
   "display_name": "Python 3",
   "language": "python",
   "name": "python3"
  },
  "language_info": {
   "codemirror_mode": {
    "name": "ipython",
    "version": 3
   },
   "file_extension": ".py",
   "mimetype": "text/x-python",
   "name": "python",
   "nbconvert_exporter": "python",
   "pygments_lexer": "ipython3",
   "version": "3.6.5"
  }
 },
 "nbformat": 4,
 "nbformat_minor": 2
}
