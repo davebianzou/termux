{
 "cells": [
  {
   "cell_type": "code",
   "execution_count": 3,
   "metadata": {},
   "outputs": [
    {
     "name": "stdout",
     "output_type": "stream",
     "text": [
      "0 dcfd\n",
      "1 48\n",
      "2 (485, 145, 'sdc')\n"
     ]
    }
   ],
   "source": [
    "aTuple=(485,145,'sdc')\n",
    "anotherTuple='dcfd',48,aTuple\n",
    "for index in range(len(anotherTuple)):\n",
    "    print(index,anotherTuple[index])"
   ]
  },
  {
   "cell_type": "code",
   "execution_count": 5,
   "metadata": {},
   "outputs": [
    {
     "data": {
      "text/plain": [
       "[145, 85, 17, 2, 56]"
      ]
     },
     "execution_count": 5,
     "metadata": {},
     "output_type": "execute_result"
    }
   ],
   "source": [
    "aList=[145,85,17,2]\n",
    "aList.append(56)\n",
    "aList"
   ]
  },
  {
   "cell_type": "code",
   "execution_count": 6,
   "metadata": {},
   "outputs": [
    {
     "data": {
      "text/plain": [
       "['head', 145, 'third', 85, 17, 2, 'last']"
      ]
     },
     "execution_count": 6,
     "metadata": {},
     "output_type": "execute_result"
    }
   ],
   "source": [
    "aList=[145,85,17,2]\n",
    "aList.insert(0,'head')\n",
    "aList.insert(2,'third')\n",
    "aList.insert(len(aList),'last')\n",
    "aList"
   ]
  },
  {
   "cell_type": "code",
   "execution_count": 7,
   "metadata": {},
   "outputs": [
    {
     "data": {
      "text/plain": [
       "[145, 85, 17, 20]"
      ]
     },
     "execution_count": 7,
     "metadata": {},
     "output_type": "execute_result"
    }
   ],
   "source": [
    "aList=[145,20,85,17,20]\n",
    "aList.remove(20)\n",
    "aList"
   ]
  },
  {
   "cell_type": "code",
   "execution_count": null,
   "metadata": {},
   "outputs": [],
   "source": []
  },
  {
   "cell_type": "code",
   "execution_count": 8,
   "metadata": {
    "scrolled": true
   },
   "outputs": [
    {
     "data": {
      "text/plain": [
       "(145, 17, 20)"
      ]
     },
     "execution_count": 8,
     "metadata": {},
     "output_type": "execute_result"
    }
   ],
   "source": [
    "aList=[145,20,85,17,20]\n",
    "aList[0],aList[3],aList[-1]"
   ]
  },
  {
   "cell_type": "code",
   "execution_count": 13,
   "metadata": {
    "scrolled": false
   },
   "outputs": [
    {
     "data": {
      "text/plain": [
       "([145, 20, 85, 17, 20, 'sfc', 'agz'],\n",
       " [145, 20],\n",
       " [20, 17, 'sfc'],\n",
       " [85, 20, 'agz'])"
      ]
     },
     "execution_count": 13,
     "metadata": {},
     "output_type": "execute_result"
    }
   ],
   "source": [
    "aList=[145,20,85,17,20,'sfc','agz']\n",
    "aList[::],aList[:2:],aList[1::2],aList[-5::2]"
   ]
  },
  {
   "cell_type": "code",
   "execution_count": 14,
   "metadata": {
    "scrolled": false
   },
   "outputs": [
    {
     "data": {
      "text/plain": [
       "(1, 2)"
      ]
     },
     "execution_count": 14,
     "metadata": {},
     "output_type": "execute_result"
    }
   ],
   "source": [
    "aList=[145,20,85,17,20,'sfc','agz']\n",
    "aList.index(20),aList.count(20)"
   ]
  },
  {
   "cell_type": "code",
   "execution_count": 18,
   "metadata": {
    "scrolled": false
   },
   "outputs": [
    {
     "data": {
      "text/plain": [
       "[145, 85, 20, 20, 17]"
      ]
     },
     "execution_count": 18,
     "metadata": {},
     "output_type": "execute_result"
    }
   ],
   "source": [
    "aList=[145,20,85,17,20]\n",
    "aList.sort(reverse=True)\n",
    "aList"
   ]
  },
  {
   "cell_type": "code",
   "execution_count": 19,
   "metadata": {},
   "outputs": [
    {
     "data": {
      "text/plain": [
       "12"
      ]
     },
     "execution_count": 19,
     "metadata": {},
     "output_type": "execute_result"
    }
   ],
   "source": [
    "multiDimList=[[11,12,13],\n",
    "              [21,22,23],\n",
    "              [31,32,33]]\n",
    "multiDimList[0][1]"
   ]
  },
  {
   "cell_type": "code",
   "execution_count": 23,
   "metadata": {},
   "outputs": [
    {
     "data": {
      "text/plain": [
       "{'c2': 2, 'c3': 3}"
      ]
     },
     "execution_count": 23,
     "metadata": {},
     "output_type": "execute_result"
    }
   ],
   "source": [
    "myDict={'c1':1,'c2':2,'c3':3}\n",
    "del myDict['c1']\n",
    "myDict"
   ]
  },
  {
   "cell_type": "code",
   "execution_count": 27,
   "metadata": {},
   "outputs": [
    {
     "data": {
      "text/plain": [
       "({'num': 598,\n",
       "  'list': [1, 2, 3],\n",
       "  'dict': {'c1': 1, 'c2': 2, 'c3': 3},\n",
       "  'func': <function __main__.add(x, y)>},\n",
       " 58)"
      ]
     },
     "execution_count": 27,
     "metadata": {},
     "output_type": "execute_result"
    }
   ],
   "source": [
    "myDict={'c1':1,'c2':2,'c3':3}\n",
    "myList=[1,2,3]\n",
    "def add(x,y):\n",
    "    return x+y\n",
    "newDict={'num':598,'list':myList,'dict':myDict,'func':add}\n",
    "newDict,newDict['func'](55,3)"
   ]
  },
  {
   "cell_type": "code",
   "execution_count": 20,
   "metadata": {},
   "outputs": [
    {
     "data": {
      "text/plain": [
       "{'c1': 1, 'c2': 2, 'c3': 3}"
      ]
     },
     "execution_count": 20,
     "metadata": {},
     "output_type": "execute_result"
    }
   ],
   "source": [
    "keyList=['c1','c2','c3']\n",
    "valueList=[1,2,3]\n",
    "myDict={}\n",
    "for index in range(len(keyList)):\n",
    "    myDict[keyList[index]]=valueList[index]\n",
    "myDict"
   ]
  },
  {
   "cell_type": "code",
   "execution_count": 21,
   "metadata": {},
   "outputs": [
    {
     "data": {
      "text/plain": [
       "{'t1': {'c1': 1, 'c2': 2, 'c3': 3},\n",
       " 't2': {'c1': 1, 'c2': 2, 'c3': 3},\n",
       " 't3': {'c1': 1, 'c2': 2, 'c3': 3},\n",
       " 't4': {'c1': 1, 'c2': 2, 'c3': 3}}"
      ]
     },
     "execution_count": 21,
     "metadata": {},
     "output_type": "execute_result"
    }
   ],
   "source": [
    "keyList=['c1','c2','c3']\n",
    "valueList=[1,2,3]\n",
    "timeList=['t1','t2','t3','t4']\n",
    "myFrame={}\n",
    "for j in range(len(timeList)):\n",
    "    myDict={}\n",
    "    for index in range(len(keyList)):\n",
    "        myDict[keyList[index]]=valueList[index]\n",
    "    myFrame[timeList[j]]=myDict\n",
    "myFrame"
   ]
  }
 ],
 "metadata": {
  "kernelspec": {
   "display_name": "Python 3",
   "language": "python",
   "name": "python3"
  },
  "language_info": {
   "codemirror_mode": {
    "name": "ipython",
    "version": 3
   },
   "file_extension": ".py",
   "mimetype": "text/x-python",
   "name": "python",
   "nbconvert_exporter": "python",
   "pygments_lexer": "ipython3",
   "version": "3.6.5"
  }
 },
 "nbformat": 4,
 "nbformat_minor": 2
}
