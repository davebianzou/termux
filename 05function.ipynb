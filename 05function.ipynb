{
 "cells": [
  {
   "cell_type": "code",
   "execution_count": 3,
   "metadata": {},
   "outputs": [
    {
     "name": "stdout",
     "output_type": "stream",
     "text": [
      "function 1\n",
      "function2\n"
     ]
    }
   ],
   "source": [
    "def function():\n",
    "    a=1\n",
    "    b=2\n",
    "    print('function',a)\n",
    "    print('function'+str(b))\n",
    "function()"
   ]
  },
  {
   "cell_type": "code",
   "execution_count": 4,
   "metadata": {},
   "outputs": [
    {
     "name": "stdout",
     "output_type": "stream",
     "text": [
      "the result is 0.4\n"
     ]
    }
   ],
   "source": [
    "def divideNum(a,b):\n",
    "    c=a/b\n",
    "    print('the result is',c)\n",
    "divideNum(b=5,a=2)"
   ]
  },
  {
   "cell_type": "code",
   "execution_count": 6,
   "metadata": {},
   "outputs": [
    {
     "name": "stdout",
     "output_type": "stream",
     "text": [
      "price: 1234 brand: BMW color: blue isSecondHand: True\n"
     ]
    }
   ],
   "source": [
    "def saleCar(price,brand,color='red',isSecondHand=True):\n",
    "    print('price:',price,\n",
    "          'brand:',brand,\n",
    "          'color:',color,\n",
    "          'isSecondHand:',isSecondHand,)\n",
    "saleCar(1234,color='blue',brand='BMW')"
   ]
  },
  {
   "cell_type": "code",
   "execution_count": 7,
   "metadata": {},
   "outputs": [
    {
     "name": "stdout",
     "output_type": "stream",
     "text": [
      "1 None\n"
     ]
    }
   ],
   "source": [
    "a=None\n",
    "b=None\n",
    "def globalVar():\n",
    "    global a\n",
    "    a=1\n",
    "    b=2\n",
    "globalVar()\n",
    "print(a,b)"
   ]
  }
 ],
 "metadata": {
  "kernelspec": {
   "display_name": "Python 3",
   "language": "python",
   "name": "python3"
  },
  "language_info": {
   "codemirror_mode": {
    "name": "ipython",
    "version": 3
   },
   "file_extension": ".py",
   "mimetype": "text/x-python",
   "name": "python",
   "nbconvert_exporter": "python",
   "pygments_lexer": "ipython3",
   "version": "3.6.5"
  }
 },
 "nbformat": 4,
 "nbformat_minor": 2
}
